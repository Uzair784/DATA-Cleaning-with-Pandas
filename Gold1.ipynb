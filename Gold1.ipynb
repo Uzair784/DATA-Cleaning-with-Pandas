{
 "cells": [
  {
   "cell_type": "markdown",
   "metadata": {},
   "source": [
    "# Import Pandas"
   ]
  },
  {
   "cell_type": "code",
   "execution_count": 1,
   "metadata": {},
   "outputs": [
    {
     "data": {
      "text/html": [
       "<div>\n",
       "<style scoped>\n",
       "    .dataframe tbody tr th:only-of-type {\n",
       "        vertical-align: middle;\n",
       "    }\n",
       "\n",
       "    .dataframe tbody tr th {\n",
       "        vertical-align: top;\n",
       "    }\n",
       "\n",
       "    .dataframe thead th {\n",
       "        text-align: right;\n",
       "    }\n",
       "</style>\n",
       "<table border=\"1\" class=\"dataframe\">\n",
       "  <thead>\n",
       "    <tr style=\"text-align: right;\">\n",
       "      <th></th>\n",
       "      <th>Date</th>\n",
       "      <th>Open</th>\n",
       "      <th>High</th>\n",
       "      <th>Low</th>\n",
       "      <th>Close</th>\n",
       "      <th>Volume</th>\n",
       "      <th>Currency</th>\n",
       "    </tr>\n",
       "  </thead>\n",
       "  <tbody>\n",
       "    <tr>\n",
       "      <th>0</th>\n",
       "      <td>2000-01-04</td>\n",
       "      <td>289.5</td>\n",
       "      <td>289.5</td>\n",
       "      <td>280.0</td>\n",
       "      <td>283.7</td>\n",
       "      <td>21621</td>\n",
       "      <td>USD</td>\n",
       "    </tr>\n",
       "    <tr>\n",
       "      <th>1</th>\n",
       "      <td>2000-01-05</td>\n",
       "      <td>283.7</td>\n",
       "      <td>285.0</td>\n",
       "      <td>281.0</td>\n",
       "      <td>282.1</td>\n",
       "      <td>25448</td>\n",
       "      <td>USD</td>\n",
       "    </tr>\n",
       "    <tr>\n",
       "      <th>2</th>\n",
       "      <td>2000-01-06</td>\n",
       "      <td>281.6</td>\n",
       "      <td>282.8</td>\n",
       "      <td>280.2</td>\n",
       "      <td>282.4</td>\n",
       "      <td>19055</td>\n",
       "      <td>USD</td>\n",
       "    </tr>\n",
       "    <tr>\n",
       "      <th>3</th>\n",
       "      <td>2000-01-07</td>\n",
       "      <td>282.5</td>\n",
       "      <td>284.5</td>\n",
       "      <td>282.0</td>\n",
       "      <td>282.9</td>\n",
       "      <td>11266</td>\n",
       "      <td>USD</td>\n",
       "    </tr>\n",
       "    <tr>\n",
       "      <th>4</th>\n",
       "      <td>2000-01-10</td>\n",
       "      <td>282.4</td>\n",
       "      <td>283.9</td>\n",
       "      <td>281.8</td>\n",
       "      <td>282.7</td>\n",
       "      <td>30603</td>\n",
       "      <td>USD</td>\n",
       "    </tr>\n",
       "  </tbody>\n",
       "</table>\n",
       "</div>"
      ],
      "text/plain": [
       "         Date   Open   High    Low  Close  Volume Currency\n",
       "0  2000-01-04  289.5  289.5  280.0  283.7   21621      USD\n",
       "1  2000-01-05  283.7  285.0  281.0  282.1   25448      USD\n",
       "2  2000-01-06  281.6  282.8  280.2  282.4   19055      USD\n",
       "3  2000-01-07  282.5  284.5  282.0  282.9   11266      USD\n",
       "4  2000-01-10  282.4  283.9  281.8  282.7   30603      USD"
      ]
     },
     "execution_count": 1,
     "metadata": {},
     "output_type": "execute_result"
    }
   ],
   "source": [
    "import pandas as pd\n",
    "\n",
    "df = pd.read_csv('gold.csv')\n",
    "\n",
    "df.describe()\n",
    "df.head()\n"
   ]
  },
  {
   "cell_type": "markdown",
   "metadata": {},
   "source": [
    "# Read csv file"
   ]
  },
  {
   "cell_type": "code",
   "execution_count": 2,
   "metadata": {},
   "outputs": [],
   "source": [
    "df = pd.read_csv('gold.csv')\n"
   ]
  },
  {
   "cell_type": "markdown",
   "metadata": {},
   "source": [
    "# Display csv file"
   ]
  },
  {
   "cell_type": "code",
   "execution_count": 3,
   "metadata": {},
   "outputs": [
    {
     "data": {
      "text/html": [
       "<div>\n",
       "<style scoped>\n",
       "    .dataframe tbody tr th:only-of-type {\n",
       "        vertical-align: middle;\n",
       "    }\n",
       "\n",
       "    .dataframe tbody tr th {\n",
       "        vertical-align: top;\n",
       "    }\n",
       "\n",
       "    .dataframe thead th {\n",
       "        text-align: right;\n",
       "    }\n",
       "</style>\n",
       "<table border=\"1\" class=\"dataframe\">\n",
       "  <thead>\n",
       "    <tr style=\"text-align: right;\">\n",
       "      <th></th>\n",
       "      <th>Date</th>\n",
       "      <th>Open</th>\n",
       "      <th>High</th>\n",
       "      <th>Low</th>\n",
       "      <th>Close</th>\n",
       "      <th>Volume</th>\n",
       "      <th>Currency</th>\n",
       "    </tr>\n",
       "  </thead>\n",
       "  <tbody>\n",
       "    <tr>\n",
       "      <th>0</th>\n",
       "      <td>2000-01-04</td>\n",
       "      <td>289.5</td>\n",
       "      <td>289.50</td>\n",
       "      <td>280.00</td>\n",
       "      <td>283.7</td>\n",
       "      <td>21621</td>\n",
       "      <td>USD</td>\n",
       "    </tr>\n",
       "    <tr>\n",
       "      <th>1</th>\n",
       "      <td>2000-01-05</td>\n",
       "      <td>283.7</td>\n",
       "      <td>285.00</td>\n",
       "      <td>281.00</td>\n",
       "      <td>282.1</td>\n",
       "      <td>25448</td>\n",
       "      <td>USD</td>\n",
       "    </tr>\n",
       "    <tr>\n",
       "      <th>2</th>\n",
       "      <td>2000-01-06</td>\n",
       "      <td>281.6</td>\n",
       "      <td>282.80</td>\n",
       "      <td>280.20</td>\n",
       "      <td>282.4</td>\n",
       "      <td>19055</td>\n",
       "      <td>USD</td>\n",
       "    </tr>\n",
       "    <tr>\n",
       "      <th>3</th>\n",
       "      <td>2000-01-07</td>\n",
       "      <td>282.5</td>\n",
       "      <td>284.50</td>\n",
       "      <td>282.00</td>\n",
       "      <td>282.9</td>\n",
       "      <td>11266</td>\n",
       "      <td>USD</td>\n",
       "    </tr>\n",
       "    <tr>\n",
       "      <th>4</th>\n",
       "      <td>2000-01-10</td>\n",
       "      <td>282.4</td>\n",
       "      <td>283.90</td>\n",
       "      <td>281.80</td>\n",
       "      <td>282.7</td>\n",
       "      <td>30603</td>\n",
       "      <td>USD</td>\n",
       "    </tr>\n",
       "    <tr>\n",
       "      <th>...</th>\n",
       "      <td>...</td>\n",
       "      <td>...</td>\n",
       "      <td>...</td>\n",
       "      <td>...</td>\n",
       "      <td>...</td>\n",
       "      <td>...</td>\n",
       "      <td>...</td>\n",
       "    </tr>\n",
       "    <tr>\n",
       "      <th>5698</th>\n",
       "      <td>2022-08-29</td>\n",
       "      <td>1748.4</td>\n",
       "      <td>1757.90</td>\n",
       "      <td>1731.40</td>\n",
       "      <td>1749.7</td>\n",
       "      <td>156220</td>\n",
       "      <td>USD</td>\n",
       "    </tr>\n",
       "    <tr>\n",
       "      <th>5699</th>\n",
       "      <td>2022-08-30</td>\n",
       "      <td>1749.8</td>\n",
       "      <td>1752.80</td>\n",
       "      <td>1732.90</td>\n",
       "      <td>1736.3</td>\n",
       "      <td>130664</td>\n",
       "      <td>USD</td>\n",
       "    </tr>\n",
       "    <tr>\n",
       "      <th>5700</th>\n",
       "      <td>2022-08-31</td>\n",
       "      <td>1735.5</td>\n",
       "      <td>1738.00</td>\n",
       "      <td>1720.60</td>\n",
       "      <td>1726.2</td>\n",
       "      <td>176731</td>\n",
       "      <td>USD</td>\n",
       "    </tr>\n",
       "    <tr>\n",
       "      <th>5701</th>\n",
       "      <td>2022-09-01</td>\n",
       "      <td>1723.0</td>\n",
       "      <td>1723.00</td>\n",
       "      <td>1699.10</td>\n",
       "      <td>1709.3</td>\n",
       "      <td>198618</td>\n",
       "      <td>USD</td>\n",
       "    </tr>\n",
       "    <tr>\n",
       "      <th>5702</th>\n",
       "      <td>2022-09-02</td>\n",
       "      <td>1707.9</td>\n",
       "      <td>1729.45</td>\n",
       "      <td>1707.05</td>\n",
       "      <td>1723.0</td>\n",
       "      <td>0</td>\n",
       "      <td>USD</td>\n",
       "    </tr>\n",
       "  </tbody>\n",
       "</table>\n",
       "<p>5703 rows × 7 columns</p>\n",
       "</div>"
      ],
      "text/plain": [
       "            Date    Open     High      Low   Close  Volume Currency\n",
       "0     2000-01-04   289.5   289.50   280.00   283.7   21621      USD\n",
       "1     2000-01-05   283.7   285.00   281.00   282.1   25448      USD\n",
       "2     2000-01-06   281.6   282.80   280.20   282.4   19055      USD\n",
       "3     2000-01-07   282.5   284.50   282.00   282.9   11266      USD\n",
       "4     2000-01-10   282.4   283.90   281.80   282.7   30603      USD\n",
       "...          ...     ...      ...      ...     ...     ...      ...\n",
       "5698  2022-08-29  1748.4  1757.90  1731.40  1749.7  156220      USD\n",
       "5699  2022-08-30  1749.8  1752.80  1732.90  1736.3  130664      USD\n",
       "5700  2022-08-31  1735.5  1738.00  1720.60  1726.2  176731      USD\n",
       "5701  2022-09-01  1723.0  1723.00  1699.10  1709.3  198618      USD\n",
       "5702  2022-09-02  1707.9  1729.45  1707.05  1723.0       0      USD\n",
       "\n",
       "[5703 rows x 7 columns]"
      ]
     },
     "execution_count": 3,
     "metadata": {},
     "output_type": "execute_result"
    }
   ],
   "source": [
    "df"
   ]
  },
  {
   "cell_type": "code",
   "execution_count": 4,
   "metadata": {},
   "outputs": [
    {
     "data": {
      "text/plain": [
       "Date        0\n",
       "Open        0\n",
       "High        0\n",
       "Low         0\n",
       "Close       0\n",
       "Volume      0\n",
       "Currency    0\n",
       "dtype: int64"
      ]
     },
     "execution_count": 4,
     "metadata": {},
     "output_type": "execute_result"
    }
   ],
   "source": [
    "df.isnull().sum()"
   ]
  },
  {
   "cell_type": "markdown",
   "metadata": {},
   "source": [
    "# using dropna()"
   ]
  },
  {
   "cell_type": "markdown",
   "metadata": {},
   "source": [
    "To use the dropna() function to drop rows with missing values, you can simply pass the dropna() function to the DataFrame. You can also specify which columns you want to drop rows for, and whether you want to drop all rows with any missing values or only rows with all missing values."
   ]
  },
  {
   "cell_type": "code",
   "execution_count": 5,
   "metadata": {},
   "outputs": [],
   "source": [
    "df = df.dropna()"
   ]
  },
  {
   "cell_type": "code",
   "execution_count": 6,
   "metadata": {},
   "outputs": [
    {
     "data": {
      "text/plain": [
       "Date        0\n",
       "Open        0\n",
       "High        0\n",
       "Low         0\n",
       "Close       0\n",
       "Volume      0\n",
       "Currency    0\n",
       "dtype: int64"
      ]
     },
     "execution_count": 6,
     "metadata": {},
     "output_type": "execute_result"
    }
   ],
   "source": [
    "df.isnull().sum()"
   ]
  },
  {
   "cell_type": "code",
   "execution_count": 7,
   "metadata": {},
   "outputs": [],
   "source": [
    "df = pd.read_csv('gold.csv')"
   ]
  },
  {
   "cell_type": "markdown",
   "metadata": {},
   "source": [
    "# df.shape"
   ]
  },
  {
   "cell_type": "markdown",
   "metadata": {},
   "source": [
    "The **df.shape** attribute in Pandas returns a tuple containing the dimensions of the DataFrame. The tuple contains two elements: the number of rows and the number of columns in the DataFrame."
   ]
  },
  {
   "cell_type": "code",
   "execution_count": 8,
   "metadata": {},
   "outputs": [
    {
     "data": {
      "text/plain": [
       "(5703, 7)"
      ]
     },
     "execution_count": 8,
     "metadata": {},
     "output_type": "execute_result"
    }
   ],
   "source": [
    "df.shape"
   ]
  },
  {
   "cell_type": "code",
   "execution_count": 9,
   "metadata": {},
   "outputs": [
    {
     "data": {
      "text/html": [
       "<div>\n",
       "<style scoped>\n",
       "    .dataframe tbody tr th:only-of-type {\n",
       "        vertical-align: middle;\n",
       "    }\n",
       "\n",
       "    .dataframe tbody tr th {\n",
       "        vertical-align: top;\n",
       "    }\n",
       "\n",
       "    .dataframe thead th {\n",
       "        text-align: right;\n",
       "    }\n",
       "</style>\n",
       "<table border=\"1\" class=\"dataframe\">\n",
       "  <thead>\n",
       "    <tr style=\"text-align: right;\">\n",
       "      <th></th>\n",
       "      <th>Open</th>\n",
       "      <th>High</th>\n",
       "      <th>Low</th>\n",
       "      <th>Close</th>\n",
       "      <th>Volume</th>\n",
       "    </tr>\n",
       "  </thead>\n",
       "  <tbody>\n",
       "    <tr>\n",
       "      <th>count</th>\n",
       "      <td>5703.000000</td>\n",
       "      <td>5703.000000</td>\n",
       "      <td>5703.000000</td>\n",
       "      <td>5703.000000</td>\n",
       "      <td>5703.000000</td>\n",
       "    </tr>\n",
       "    <tr>\n",
       "      <th>mean</th>\n",
       "      <td>1040.382816</td>\n",
       "      <td>1048.339181</td>\n",
       "      <td>1031.863169</td>\n",
       "      <td>1040.298282</td>\n",
       "      <td>139141.669297</td>\n",
       "    </tr>\n",
       "    <tr>\n",
       "      <th>std</th>\n",
       "      <td>518.733377</td>\n",
       "      <td>522.353946</td>\n",
       "      <td>514.455903</td>\n",
       "      <td>518.524020</td>\n",
       "      <td>102537.449058</td>\n",
       "    </tr>\n",
       "    <tr>\n",
       "      <th>min</th>\n",
       "      <td>256.600000</td>\n",
       "      <td>259.400000</td>\n",
       "      <td>255.100000</td>\n",
       "      <td>256.600000</td>\n",
       "      <td>0.000000</td>\n",
       "    </tr>\n",
       "    <tr>\n",
       "      <th>25%</th>\n",
       "      <td>459.850000</td>\n",
       "      <td>463.900000</td>\n",
       "      <td>457.450000</td>\n",
       "      <td>460.500000</td>\n",
       "      <td>52938.500000</td>\n",
       "    </tr>\n",
       "    <tr>\n",
       "      <th>50%</th>\n",
       "      <td>1188.800000</td>\n",
       "      <td>1198.000000</td>\n",
       "      <td>1179.700000</td>\n",
       "      <td>1188.700000</td>\n",
       "      <td>126006.000000</td>\n",
       "    </tr>\n",
       "    <tr>\n",
       "      <th>75%</th>\n",
       "      <td>1381.400000</td>\n",
       "      <td>1392.750000</td>\n",
       "      <td>1368.100000</td>\n",
       "      <td>1383.050000</td>\n",
       "      <td>193109.000000</td>\n",
       "    </tr>\n",
       "    <tr>\n",
       "      <th>max</th>\n",
       "      <td>2076.400000</td>\n",
       "      <td>2089.200000</td>\n",
       "      <td>2049.000000</td>\n",
       "      <td>2069.400000</td>\n",
       "      <td>816531.000000</td>\n",
       "    </tr>\n",
       "  </tbody>\n",
       "</table>\n",
       "</div>"
      ],
      "text/plain": [
       "              Open         High          Low        Close         Volume\n",
       "count  5703.000000  5703.000000  5703.000000  5703.000000    5703.000000\n",
       "mean   1040.382816  1048.339181  1031.863169  1040.298282  139141.669297\n",
       "std     518.733377   522.353946   514.455903   518.524020  102537.449058\n",
       "min     256.600000   259.400000   255.100000   256.600000       0.000000\n",
       "25%     459.850000   463.900000   457.450000   460.500000   52938.500000\n",
       "50%    1188.800000  1198.000000  1179.700000  1188.700000  126006.000000\n",
       "75%    1381.400000  1392.750000  1368.100000  1383.050000  193109.000000\n",
       "max    2076.400000  2089.200000  2049.000000  2069.400000  816531.000000"
      ]
     },
     "execution_count": 9,
     "metadata": {},
     "output_type": "execute_result"
    }
   ],
   "source": [
    "df.describe()"
   ]
  },
  {
   "cell_type": "markdown",
   "metadata": {},
   "source": [
    "\n",
    "The **df.describe()** method in Pandas returns a summary of the DataFrame's contents, including the mean, median, standard deviation, minimum, maximum, and 25% and 75% percentiles.\n",
    "\n",
    "To use the df.describe() method, simply pass the DataFrame to the method. The method will return a DataFrame containing the summary statistics."
   ]
  },
  {
   "cell_type": "code",
   "execution_count": 10,
   "metadata": {},
   "outputs": [
    {
     "name": "stdout",
     "output_type": "stream",
     "text": [
      "<class 'pandas.core.frame.DataFrame'>\n",
      "RangeIndex: 5703 entries, 0 to 5702\n",
      "Data columns (total 7 columns):\n",
      " #   Column    Non-Null Count  Dtype  \n",
      "---  ------    --------------  -----  \n",
      " 0   Date      5703 non-null   object \n",
      " 1   Open      5703 non-null   float64\n",
      " 2   High      5703 non-null   float64\n",
      " 3   Low       5703 non-null   float64\n",
      " 4   Close     5703 non-null   float64\n",
      " 5   Volume    5703 non-null   int64  \n",
      " 6   Currency  5703 non-null   object \n",
      "dtypes: float64(4), int64(1), object(2)\n",
      "memory usage: 312.0+ KB\n"
     ]
    }
   ],
   "source": [
    "df.info()"
   ]
  },
  {
   "cell_type": "markdown",
   "metadata": {},
   "source": [
    "The **df.info()** method in Pandas prints a summary of the DataFrame's contents, including the index dtype and column dtypes, non-null values, and memory usage.\n",
    "\n",
    "To use the df.info() method, simply pass the DataFrame to the method."
   ]
  },
  {
   "cell_type": "code",
   "execution_count": 11,
   "metadata": {},
   "outputs": [
    {
     "data": {
      "text/html": [
       "<div>\n",
       "<style scoped>\n",
       "    .dataframe tbody tr th:only-of-type {\n",
       "        vertical-align: middle;\n",
       "    }\n",
       "\n",
       "    .dataframe tbody tr th {\n",
       "        vertical-align: top;\n",
       "    }\n",
       "\n",
       "    .dataframe thead th {\n",
       "        text-align: right;\n",
       "    }\n",
       "</style>\n",
       "<table border=\"1\" class=\"dataframe\">\n",
       "  <thead>\n",
       "    <tr style=\"text-align: right;\">\n",
       "      <th></th>\n",
       "      <th>Date</th>\n",
       "      <th>Open</th>\n",
       "      <th>High</th>\n",
       "      <th>Low</th>\n",
       "      <th>Close</th>\n",
       "      <th>Volume</th>\n",
       "      <th>Currency</th>\n",
       "    </tr>\n",
       "  </thead>\n",
       "  <tbody>\n",
       "    <tr>\n",
       "      <th>0</th>\n",
       "      <td>2000-01-04</td>\n",
       "      <td>289.5</td>\n",
       "      <td>289.5</td>\n",
       "      <td>280.0</td>\n",
       "      <td>283.7</td>\n",
       "      <td>21621</td>\n",
       "      <td>USD</td>\n",
       "    </tr>\n",
       "    <tr>\n",
       "      <th>1</th>\n",
       "      <td>2000-01-05</td>\n",
       "      <td>283.7</td>\n",
       "      <td>285.0</td>\n",
       "      <td>281.0</td>\n",
       "      <td>282.1</td>\n",
       "      <td>25448</td>\n",
       "      <td>USD</td>\n",
       "    </tr>\n",
       "    <tr>\n",
       "      <th>2</th>\n",
       "      <td>2000-01-06</td>\n",
       "      <td>281.6</td>\n",
       "      <td>282.8</td>\n",
       "      <td>280.2</td>\n",
       "      <td>282.4</td>\n",
       "      <td>19055</td>\n",
       "      <td>USD</td>\n",
       "    </tr>\n",
       "    <tr>\n",
       "      <th>3</th>\n",
       "      <td>2000-01-07</td>\n",
       "      <td>282.5</td>\n",
       "      <td>284.5</td>\n",
       "      <td>282.0</td>\n",
       "      <td>282.9</td>\n",
       "      <td>11266</td>\n",
       "      <td>USD</td>\n",
       "    </tr>\n",
       "    <tr>\n",
       "      <th>4</th>\n",
       "      <td>2000-01-10</td>\n",
       "      <td>282.4</td>\n",
       "      <td>283.9</td>\n",
       "      <td>281.8</td>\n",
       "      <td>282.7</td>\n",
       "      <td>30603</td>\n",
       "      <td>USD</td>\n",
       "    </tr>\n",
       "    <tr>\n",
       "      <th>5</th>\n",
       "      <td>2000-01-11</td>\n",
       "      <td>282.4</td>\n",
       "      <td>285.3</td>\n",
       "      <td>281.9</td>\n",
       "      <td>284.4</td>\n",
       "      <td>13500</td>\n",
       "      <td>USD</td>\n",
       "    </tr>\n",
       "    <tr>\n",
       "      <th>6</th>\n",
       "      <td>2000-01-12</td>\n",
       "      <td>284.5</td>\n",
       "      <td>285.0</td>\n",
       "      <td>282.5</td>\n",
       "      <td>283.7</td>\n",
       "      <td>17841</td>\n",
       "      <td>USD</td>\n",
       "    </tr>\n",
       "    <tr>\n",
       "      <th>7</th>\n",
       "      <td>2000-01-13</td>\n",
       "      <td>283.5</td>\n",
       "      <td>285.9</td>\n",
       "      <td>282.9</td>\n",
       "      <td>285.1</td>\n",
       "      <td>12171</td>\n",
       "      <td>USD</td>\n",
       "    </tr>\n",
       "  </tbody>\n",
       "</table>\n",
       "</div>"
      ],
      "text/plain": [
       "         Date   Open   High    Low  Close  Volume Currency\n",
       "0  2000-01-04  289.5  289.5  280.0  283.7   21621      USD\n",
       "1  2000-01-05  283.7  285.0  281.0  282.1   25448      USD\n",
       "2  2000-01-06  281.6  282.8  280.2  282.4   19055      USD\n",
       "3  2000-01-07  282.5  284.5  282.0  282.9   11266      USD\n",
       "4  2000-01-10  282.4  283.9  281.8  282.7   30603      USD\n",
       "5  2000-01-11  282.4  285.3  281.9  284.4   13500      USD\n",
       "6  2000-01-12  284.5  285.0  282.5  283.7   17841      USD\n",
       "7  2000-01-13  283.5  285.9  282.9  285.1   12171      USD"
      ]
     },
     "execution_count": 11,
     "metadata": {},
     "output_type": "execute_result"
    }
   ],
   "source": [
    "df.head(8)"
   ]
  },
  {
   "cell_type": "code",
   "execution_count": 12,
   "metadata": {},
   "outputs": [
    {
     "data": {
      "text/html": [
       "<div>\n",
       "<style scoped>\n",
       "    .dataframe tbody tr th:only-of-type {\n",
       "        vertical-align: middle;\n",
       "    }\n",
       "\n",
       "    .dataframe tbody tr th {\n",
       "        vertical-align: top;\n",
       "    }\n",
       "\n",
       "    .dataframe thead th {\n",
       "        text-align: right;\n",
       "    }\n",
       "</style>\n",
       "<table border=\"1\" class=\"dataframe\">\n",
       "  <thead>\n",
       "    <tr style=\"text-align: right;\">\n",
       "      <th></th>\n",
       "      <th>Date</th>\n",
       "      <th>Open</th>\n",
       "      <th>High</th>\n",
       "      <th>Low</th>\n",
       "      <th>Close</th>\n",
       "      <th>Volume</th>\n",
       "      <th>Currency</th>\n",
       "    </tr>\n",
       "  </thead>\n",
       "  <tbody>\n",
       "    <tr>\n",
       "      <th>0</th>\n",
       "      <td>False</td>\n",
       "      <td>False</td>\n",
       "      <td>False</td>\n",
       "      <td>False</td>\n",
       "      <td>False</td>\n",
       "      <td>False</td>\n",
       "      <td>False</td>\n",
       "    </tr>\n",
       "    <tr>\n",
       "      <th>1</th>\n",
       "      <td>False</td>\n",
       "      <td>False</td>\n",
       "      <td>False</td>\n",
       "      <td>False</td>\n",
       "      <td>False</td>\n",
       "      <td>False</td>\n",
       "      <td>False</td>\n",
       "    </tr>\n",
       "    <tr>\n",
       "      <th>2</th>\n",
       "      <td>False</td>\n",
       "      <td>False</td>\n",
       "      <td>False</td>\n",
       "      <td>False</td>\n",
       "      <td>False</td>\n",
       "      <td>False</td>\n",
       "      <td>False</td>\n",
       "    </tr>\n",
       "    <tr>\n",
       "      <th>3</th>\n",
       "      <td>False</td>\n",
       "      <td>False</td>\n",
       "      <td>False</td>\n",
       "      <td>False</td>\n",
       "      <td>False</td>\n",
       "      <td>False</td>\n",
       "      <td>False</td>\n",
       "    </tr>\n",
       "    <tr>\n",
       "      <th>4</th>\n",
       "      <td>False</td>\n",
       "      <td>False</td>\n",
       "      <td>False</td>\n",
       "      <td>False</td>\n",
       "      <td>False</td>\n",
       "      <td>False</td>\n",
       "      <td>False</td>\n",
       "    </tr>\n",
       "    <tr>\n",
       "      <th>...</th>\n",
       "      <td>...</td>\n",
       "      <td>...</td>\n",
       "      <td>...</td>\n",
       "      <td>...</td>\n",
       "      <td>...</td>\n",
       "      <td>...</td>\n",
       "      <td>...</td>\n",
       "    </tr>\n",
       "    <tr>\n",
       "      <th>5698</th>\n",
       "      <td>False</td>\n",
       "      <td>False</td>\n",
       "      <td>False</td>\n",
       "      <td>False</td>\n",
       "      <td>False</td>\n",
       "      <td>False</td>\n",
       "      <td>False</td>\n",
       "    </tr>\n",
       "    <tr>\n",
       "      <th>5699</th>\n",
       "      <td>False</td>\n",
       "      <td>False</td>\n",
       "      <td>False</td>\n",
       "      <td>False</td>\n",
       "      <td>False</td>\n",
       "      <td>False</td>\n",
       "      <td>False</td>\n",
       "    </tr>\n",
       "    <tr>\n",
       "      <th>5700</th>\n",
       "      <td>False</td>\n",
       "      <td>False</td>\n",
       "      <td>False</td>\n",
       "      <td>False</td>\n",
       "      <td>False</td>\n",
       "      <td>False</td>\n",
       "      <td>False</td>\n",
       "    </tr>\n",
       "    <tr>\n",
       "      <th>5701</th>\n",
       "      <td>False</td>\n",
       "      <td>False</td>\n",
       "      <td>False</td>\n",
       "      <td>False</td>\n",
       "      <td>False</td>\n",
       "      <td>False</td>\n",
       "      <td>False</td>\n",
       "    </tr>\n",
       "    <tr>\n",
       "      <th>5702</th>\n",
       "      <td>False</td>\n",
       "      <td>False</td>\n",
       "      <td>False</td>\n",
       "      <td>False</td>\n",
       "      <td>False</td>\n",
       "      <td>False</td>\n",
       "      <td>False</td>\n",
       "    </tr>\n",
       "  </tbody>\n",
       "</table>\n",
       "<p>5703 rows × 7 columns</p>\n",
       "</div>"
      ],
      "text/plain": [
       "       Date   Open   High    Low  Close  Volume  Currency\n",
       "0     False  False  False  False  False   False     False\n",
       "1     False  False  False  False  False   False     False\n",
       "2     False  False  False  False  False   False     False\n",
       "3     False  False  False  False  False   False     False\n",
       "4     False  False  False  False  False   False     False\n",
       "...     ...    ...    ...    ...    ...     ...       ...\n",
       "5698  False  False  False  False  False   False     False\n",
       "5699  False  False  False  False  False   False     False\n",
       "5700  False  False  False  False  False   False     False\n",
       "5701  False  False  False  False  False   False     False\n",
       "5702  False  False  False  False  False   False     False\n",
       "\n",
       "[5703 rows x 7 columns]"
      ]
     },
     "execution_count": 12,
     "metadata": {},
     "output_type": "execute_result"
    }
   ],
   "source": [
    "df.isnull()"
   ]
  },
  {
   "cell_type": "code",
   "execution_count": 13,
   "metadata": {},
   "outputs": [
    {
     "data": {
      "text/plain": [
       "Date        0\n",
       "Open        0\n",
       "High        0\n",
       "Low         0\n",
       "Close       0\n",
       "Volume      0\n",
       "Currency    0\n",
       "dtype: int64"
      ]
     },
     "execution_count": 13,
     "metadata": {},
     "output_type": "execute_result"
    }
   ],
   "source": [
    "df.isnull().sum()"
   ]
  },
  {
   "cell_type": "code",
   "execution_count": 14,
   "metadata": {},
   "outputs": [
    {
     "data": {
      "text/plain": [
       "Date        5703\n",
       "Open        5703\n",
       "High        5703\n",
       "Low         5703\n",
       "Close       5703\n",
       "Volume      5703\n",
       "Currency    5703\n",
       "dtype: int64"
      ]
     },
     "execution_count": 14,
     "metadata": {},
     "output_type": "execute_result"
    }
   ],
   "source": [
    "df.notnull().sum()"
   ]
  },
  {
   "cell_type": "markdown",
   "metadata": {},
   "source": [
    "The **df.columns** attribute in Pandas returns a list of the column names in the DataFrame.\n",
    "\n",
    "To use the df.columns attribute, simply access the attribute on the DataFrame. The attribute will return a list of strings, where each string is the name of a column in the DataFrame."
   ]
  },
  {
   "cell_type": "code",
   "execution_count": 15,
   "metadata": {},
   "outputs": [
    {
     "data": {
      "text/plain": [
       "Index(['Date', 'Open', 'High', 'Low', 'Close', 'Volume', 'Currency'], dtype='object')"
      ]
     },
     "execution_count": 15,
     "metadata": {},
     "output_type": "execute_result"
    }
   ],
   "source": [
    "df.columns"
   ]
  },
  {
   "cell_type": "markdown",
   "metadata": {},
   "source": [
    "The **df.duplicate()** method in Pandas returns a Boolean Series indicating whether each row in the DataFrame is a duplicate. A duplicate row is defined as a row that has the same values for all of its columns as another row in the DataFrame.\n",
    "\n",
    "To use the df.duplicate() method, simply pass the DataFrame to the method. The method will return a Boolean Series, where each value in the Series is True if the corresponding row in the DataFrame is a duplicate and False"
   ]
  },
  {
   "cell_type": "code",
   "execution_count": 16,
   "metadata": {},
   "outputs": [
    {
     "data": {
      "text/plain": [
       "0       False\n",
       "1       False\n",
       "2       False\n",
       "3       False\n",
       "4       False\n",
       "        ...  \n",
       "5698    False\n",
       "5699    False\n",
       "5700    False\n",
       "5701    False\n",
       "5702    False\n",
       "Length: 5703, dtype: bool"
      ]
     },
     "execution_count": 16,
     "metadata": {},
     "output_type": "execute_result"
    }
   ],
   "source": [
    "df.duplicated()"
   ]
  },
  {
   "cell_type": "code",
   "execution_count": 18,
   "metadata": {},
   "outputs": [],
   "source": [
    "df = pd.read_csv('gold.csv')"
   ]
  },
  {
   "cell_type": "code",
   "execution_count": 19,
   "metadata": {},
   "outputs": [
    {
     "data": {
      "text/html": [
       "<div>\n",
       "<style scoped>\n",
       "    .dataframe tbody tr th:only-of-type {\n",
       "        vertical-align: middle;\n",
       "    }\n",
       "\n",
       "    .dataframe tbody tr th {\n",
       "        vertical-align: top;\n",
       "    }\n",
       "\n",
       "    .dataframe thead th {\n",
       "        text-align: right;\n",
       "    }\n",
       "</style>\n",
       "<table border=\"1\" class=\"dataframe\">\n",
       "  <thead>\n",
       "    <tr style=\"text-align: right;\">\n",
       "      <th></th>\n",
       "      <th>Open</th>\n",
       "      <th>High</th>\n",
       "      <th>Low</th>\n",
       "      <th>Close</th>\n",
       "      <th>Volume</th>\n",
       "    </tr>\n",
       "  </thead>\n",
       "  <tbody>\n",
       "    <tr>\n",
       "      <th>count</th>\n",
       "      <td>5703.000000</td>\n",
       "      <td>5703.000000</td>\n",
       "      <td>5703.000000</td>\n",
       "      <td>5703.000000</td>\n",
       "      <td>5703.000000</td>\n",
       "    </tr>\n",
       "    <tr>\n",
       "      <th>mean</th>\n",
       "      <td>1040.382816</td>\n",
       "      <td>1048.339181</td>\n",
       "      <td>1031.863169</td>\n",
       "      <td>1040.298282</td>\n",
       "      <td>139141.669297</td>\n",
       "    </tr>\n",
       "    <tr>\n",
       "      <th>std</th>\n",
       "      <td>518.733377</td>\n",
       "      <td>522.353946</td>\n",
       "      <td>514.455903</td>\n",
       "      <td>518.524020</td>\n",
       "      <td>102537.449058</td>\n",
       "    </tr>\n",
       "    <tr>\n",
       "      <th>min</th>\n",
       "      <td>256.600000</td>\n",
       "      <td>259.400000</td>\n",
       "      <td>255.100000</td>\n",
       "      <td>256.600000</td>\n",
       "      <td>0.000000</td>\n",
       "    </tr>\n",
       "    <tr>\n",
       "      <th>25%</th>\n",
       "      <td>459.850000</td>\n",
       "      <td>463.900000</td>\n",
       "      <td>457.450000</td>\n",
       "      <td>460.500000</td>\n",
       "      <td>52938.500000</td>\n",
       "    </tr>\n",
       "    <tr>\n",
       "      <th>50%</th>\n",
       "      <td>1188.800000</td>\n",
       "      <td>1198.000000</td>\n",
       "      <td>1179.700000</td>\n",
       "      <td>1188.700000</td>\n",
       "      <td>126006.000000</td>\n",
       "    </tr>\n",
       "    <tr>\n",
       "      <th>75%</th>\n",
       "      <td>1381.400000</td>\n",
       "      <td>1392.750000</td>\n",
       "      <td>1368.100000</td>\n",
       "      <td>1383.050000</td>\n",
       "      <td>193109.000000</td>\n",
       "    </tr>\n",
       "    <tr>\n",
       "      <th>max</th>\n",
       "      <td>2076.400000</td>\n",
       "      <td>2089.200000</td>\n",
       "      <td>2049.000000</td>\n",
       "      <td>2069.400000</td>\n",
       "      <td>816531.000000</td>\n",
       "    </tr>\n",
       "  </tbody>\n",
       "</table>\n",
       "</div>"
      ],
      "text/plain": [
       "              Open         High          Low        Close         Volume\n",
       "count  5703.000000  5703.000000  5703.000000  5703.000000    5703.000000\n",
       "mean   1040.382816  1048.339181  1031.863169  1040.298282  139141.669297\n",
       "std     518.733377   522.353946   514.455903   518.524020  102537.449058\n",
       "min     256.600000   259.400000   255.100000   256.600000       0.000000\n",
       "25%     459.850000   463.900000   457.450000   460.500000   52938.500000\n",
       "50%    1188.800000  1198.000000  1179.700000  1188.700000  126006.000000\n",
       "75%    1381.400000  1392.750000  1368.100000  1383.050000  193109.000000\n",
       "max    2076.400000  2089.200000  2049.000000  2069.400000  816531.000000"
      ]
     },
     "execution_count": 19,
     "metadata": {},
     "output_type": "execute_result"
    }
   ],
   "source": [
    "# Explore the dataset\n",
    "df.describe()"
   ]
  },
  {
   "cell_type": "code",
   "execution_count": 20,
   "metadata": {},
   "outputs": [
    {
     "data": {
      "text/html": [
       "<div>\n",
       "<style scoped>\n",
       "    .dataframe tbody tr th:only-of-type {\n",
       "        vertical-align: middle;\n",
       "    }\n",
       "\n",
       "    .dataframe tbody tr th {\n",
       "        vertical-align: top;\n",
       "    }\n",
       "\n",
       "    .dataframe thead th {\n",
       "        text-align: right;\n",
       "    }\n",
       "</style>\n",
       "<table border=\"1\" class=\"dataframe\">\n",
       "  <thead>\n",
       "    <tr style=\"text-align: right;\">\n",
       "      <th></th>\n",
       "      <th>Date</th>\n",
       "      <th>Open</th>\n",
       "      <th>High</th>\n",
       "      <th>Low</th>\n",
       "      <th>Close</th>\n",
       "      <th>Volume</th>\n",
       "      <th>Currency</th>\n",
       "    </tr>\n",
       "  </thead>\n",
       "  <tbody>\n",
       "    <tr>\n",
       "      <th>0</th>\n",
       "      <td>2000-01-04</td>\n",
       "      <td>289.5</td>\n",
       "      <td>289.5</td>\n",
       "      <td>280.0</td>\n",
       "      <td>283.7</td>\n",
       "      <td>21621</td>\n",
       "      <td>USD</td>\n",
       "    </tr>\n",
       "    <tr>\n",
       "      <th>1</th>\n",
       "      <td>2000-01-05</td>\n",
       "      <td>283.7</td>\n",
       "      <td>285.0</td>\n",
       "      <td>281.0</td>\n",
       "      <td>282.1</td>\n",
       "      <td>25448</td>\n",
       "      <td>USD</td>\n",
       "    </tr>\n",
       "    <tr>\n",
       "      <th>2</th>\n",
       "      <td>2000-01-06</td>\n",
       "      <td>281.6</td>\n",
       "      <td>282.8</td>\n",
       "      <td>280.2</td>\n",
       "      <td>282.4</td>\n",
       "      <td>19055</td>\n",
       "      <td>USD</td>\n",
       "    </tr>\n",
       "    <tr>\n",
       "      <th>3</th>\n",
       "      <td>2000-01-07</td>\n",
       "      <td>282.5</td>\n",
       "      <td>284.5</td>\n",
       "      <td>282.0</td>\n",
       "      <td>282.9</td>\n",
       "      <td>11266</td>\n",
       "      <td>USD</td>\n",
       "    </tr>\n",
       "    <tr>\n",
       "      <th>4</th>\n",
       "      <td>2000-01-10</td>\n",
       "      <td>282.4</td>\n",
       "      <td>283.9</td>\n",
       "      <td>281.8</td>\n",
       "      <td>282.7</td>\n",
       "      <td>30603</td>\n",
       "      <td>USD</td>\n",
       "    </tr>\n",
       "  </tbody>\n",
       "</table>\n",
       "</div>"
      ],
      "text/plain": [
       "         Date   Open   High    Low  Close  Volume Currency\n",
       "0  2000-01-04  289.5  289.5  280.0  283.7   21621      USD\n",
       "1  2000-01-05  283.7  285.0  281.0  282.1   25448      USD\n",
       "2  2000-01-06  281.6  282.8  280.2  282.4   19055      USD\n",
       "3  2000-01-07  282.5  284.5  282.0  282.9   11266      USD\n",
       "4  2000-01-10  282.4  283.9  281.8  282.7   30603      USD"
      ]
     },
     "execution_count": 20,
     "metadata": {},
     "output_type": "execute_result"
    }
   ],
   "source": [
    "df.head()\n"
   ]
  },
  {
   "cell_type": "markdown",
   "metadata": {},
   "source": [
    "The **isna()** function in Pandas checks whether the values of a DataFrame or Series are missing or not. It returns a Boolean Series or DataFrame indicating whether each value is missing (NA) or not."
   ]
  },
  {
   "cell_type": "code",
   "execution_count": 21,
   "metadata": {},
   "outputs": [],
   "source": [
    "# Identify missing values\n",
    "missing_values = df.isna().sum()"
   ]
  },
  {
   "cell_type": "markdown",
   "metadata": {},
   "source": [
    "The **dropna()** function in Pandas is used to remove rows or columns with missing values. It can be used to clean up your data and ensure that you only have rows or columns with valid values."
   ]
  },
  {
   "cell_type": "code",
   "execution_count": 22,
   "metadata": {},
   "outputs": [],
   "source": [
    "# Drop rows with missing values\n",
    "df = df.dropna()"
   ]
  },
  {
   "cell_type": "code",
   "execution_count": 24,
   "metadata": {},
   "outputs": [
    {
     "name": "stderr",
     "output_type": "stream",
     "text": [
      "C:\\Users\\uzair\\AppData\\Local\\Temp\\ipykernel_14088\\1405492415.py:2: FutureWarning: DataFrame.fillna with 'method' is deprecated and will raise in a future version. Use obj.ffill() or obj.bfill() instead.\n",
      "  df.fillna(method='ffill', inplace=True)\n"
     ]
    }
   ],
   "source": [
    "# Fill in missing values\n",
    "df.fillna(method='ffill', inplace=True)"
   ]
  },
  {
   "cell_type": "code",
   "execution_count": 54,
   "metadata": {},
   "outputs": [
    {
     "name": "stdout",
     "output_type": "stream",
     "text": [
      "<class 'pandas.core.frame.DataFrame'>\n",
      "RangeIndex: 5703 entries, 0 to 5702\n",
      "Data columns (total 7 columns):\n",
      " #   Column    Non-Null Count  Dtype  \n",
      "---  ------    --------------  -----  \n",
      " 0   Date      5703 non-null   object \n",
      " 1   Open      5703 non-null   float64\n",
      " 2   High      5703 non-null   float64\n",
      " 3   Low       5703 non-null   float64\n",
      " 4   Close     5703 non-null   float64\n",
      " 5   Volume    5703 non-null   int64  \n",
      " 6   Currency  5703 non-null   object \n",
      "dtypes: float64(4), int64(1), object(2)\n",
      "memory usage: 312.0+ KB\n"
     ]
    }
   ],
   "source": [
    "import pandas as pd\n",
    "import matplotlib.pyplot as plt\n",
    "import seaborn as sns\n",
    "df = pd.read_csv('gold.csv')\n",
    "df.info()\n"
   ]
  },
  {
   "cell_type": "code",
   "execution_count": 55,
   "metadata": {},
   "outputs": [
    {
     "data": {
      "image/png": "[encoded data removed]",
      "text/plain": [
       "<Figure size 640x480 with 1 Axes>"
      ]
     },
     "metadata": {},
     "output_type": "display_data"
    }
   ],
   "source": [
    "\n",
    "ax = sns.stripplot(x='Open', y='Volume', data=df) \n",
    "  \n",
    "# giving title to the plot \n",
    "plt.title('Graph') \n",
    "  \n",
    "# function to show plot \n",
    "plt.show() "
   ]
  },
  {
   "cell_type": "code",
   "execution_count": 56,
   "metadata": {},
   "outputs": [
    {
     "name": "stderr",
     "output_type": "stream",
     "text": [
      "c:\\Users\\uzair\\AppData\\Local\\Programs\\Python\\Python312\\Lib\\site-packages\\seaborn\\categorical.py:3370: UserWarning: 50.0% of the points cannot be placed; you may want to decrease the size of the markers or use stripplot.\n",
      "  warnings.warn(msg, UserWarning)\n",
      "c:\\Users\\uzair\\AppData\\Local\\Programs\\Python\\Python312\\Lib\\site-packages\\seaborn\\categorical.py:3370: UserWarning: 75.0% of the points cannot be placed; you may want to decrease the size of the markers or use stripplot.\n",
      "  warnings.warn(msg, UserWarning)\n",
      "c:\\Users\\uzair\\AppData\\Local\\Programs\\Python\\Python312\\Lib\\site-packages\\seaborn\\categorical.py:3370: UserWarning: 83.3% of the points cannot be placed; you may want to decrease the size of the markers or use stripplot.\n",
      "  warnings.warn(msg, UserWarning)\n",
      "c:\\Users\\uzair\\AppData\\Local\\Programs\\Python\\Python312\\Lib\\site-packages\\seaborn\\categorical.py:3370: UserWarning: 66.7% of the points cannot be placed; you may want to decrease the size of the markers or use stripplot.\n",
      "  warnings.warn(msg, UserWarning)\n",
      "c:\\Users\\uzair\\AppData\\Local\\Programs\\Python\\Python312\\Lib\\site-packages\\seaborn\\categorical.py:3370: UserWarning: 80.0% of the points cannot be placed; you may want to decrease the size of the markers or use stripplot.\n",
      "  warnings.warn(msg, UserWarning)\n",
      "c:\\Users\\uzair\\AppData\\Local\\Programs\\Python\\Python312\\Lib\\site-packages\\seaborn\\categorical.py:3370: UserWarning: 33.3% of the points cannot be placed; you may want to decrease the size of the markers or use stripplot.\n",
      "  warnings.warn(msg, UserWarning)\n"
     ]
    },
    {
     "data": {
      "image/png": "[encoded data removed]",
      "text/plain": [
       "<Figure size 640x480 with 1 Axes>"
      ]
     },
     "metadata": {},
     "output_type": "display_data"
    }
   ],
   "source": [
    "ax = sns.swarmplot(x='Open', y='Close', data=df) \n",
    "  \n",
    "  \n",
    "# giving title to the plot \n",
    "plt.title('Graph') \n",
    "  \n",
    "# function to show plot \n",
    "plt.show() "
   ]
  },
  {
   "cell_type": "code",
   "execution_count": 57,
   "metadata": {},
   "outputs": [
    {
     "name": "stderr",
     "output_type": "stream",
     "text": [
      "C:\\Users\\uzair\\AppData\\Local\\Temp\\ipykernel_14088\\3603229688.py:1: FutureWarning: \n",
      "\n",
      "Passing `palette` without assigning `hue` is deprecated and will be removed in v0.14.0. Assign the `x` variable to `hue` and set `legend=False` for the same effect.\n",
      "\n",
      "  sns.barplot(x ='High', y ='Volume', data = df,palette ='plasma')\n"
     ]
    },
    {
     "data": {
      "text/plain": [
       "<Axes: xlabel='High', ylabel='Volume'>"
      ]
     },
     "execution_count": 57,
     "metadata": {},
     "output_type": "execute_result"
    },
    {
     "data": {
      "image/png": "[encoded data removed]",
      "text/plain": [
       "<Figure size 640x480 with 1 Axes>"
      ]
     },
     "metadata": {},
     "output_type": "display_data"
    }
   ],
   "source": [
    "sns.barplot(x ='High', y ='Volume', data = df,palette ='plasma')"
   ]
  },
  {
   "cell_type": "code",
   "execution_count": 58,
   "metadata": {},
   "outputs": [
    {
     "data": {
      "text/plain": [
       "<Axes: xlabel='Open', ylabel='count'>"
      ]
     },
     "execution_count": 58,
     "metadata": {},
     "output_type": "execute_result"
    },
    {
     "data": {
      "image/png": "[encoded data removed]",
      "text/plain": [
       "<Figure size 640x480 with 1 Axes>"
      ]
     },
     "metadata": {},
     "output_type": "display_data"
    }
   ],
   "source": [
    "sns.countplot(x ='Open', data = df)  "
   ]
  },
  {
   "cell_type": "code",
   "execution_count": 60,
   "metadata": {},
   "outputs": [
    {
     "data": {
      "text/plain": [
       "<Axes: xlabel='Open', ylabel='Date'>"
      ]
     },
     "execution_count": 60,
     "metadata": {},
     "output_type": "execute_result"
    },
    {
     "data": {
      "image/png": "[encoded data removed]",
      "text/plain": [
       "<Figure size 640x480 with 1 Axes>"
      ]
     },
     "metadata": {},
     "output_type": "display_data"
    }
   ],
   "source": [
    "sns.boxplot(x='Open', y='Date', data=df, hue='Currency')"
   ]
  }
 ],
 "metadata": {
  "kernelspec": {
   "display_name": "Python 3",
   "language": "python",
   "name": "python3"
  },
  "language_info": {
   "codemirror_mode": {
    "name": "ipython",
    "version": 3
   },
   "file_extension": ".py",
   "mimetype": "text/x-python",
   "name": "python",
   "nbconvert_exporter": "python",
   "pygments_lexer": "ipython3",
   "version": "3.12.0"
  }
 },
 "nbformat": 4,
 "nbformat_minor": 2
}
